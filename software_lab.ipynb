{
  "nbformat": 4,
  "nbformat_minor": 0,
  "metadata": {
    "colab": {
      "provenance": [],
      "authorship_tag": "ABX9TyNd8nr+mT6MqPK9LXhFR5ex",
      "include_colab_link": true
    },
    "kernelspec": {
      "name": "python3",
      "display_name": "Python 3"
    },
    "language_info": {
      "name": "python"
    }
  },
  "cells": [
    {
      "cell_type": "markdown",
      "metadata": {
        "id": "view-in-github",
        "colab_type": "text"
      },
      "source": [
        "<a href=\"https://colab.research.google.com/github/charan060704/software-engineering/blob/main/software_lab.ipynb\" target=\"_parent\"><img src=\"https://colab.research.google.com/assets/colab-badge.svg\" alt=\"Open In Colab\"/></a>"
      ]
    },
    {
      "cell_type": "code",
      "execution_count": 1,
      "metadata": {
        "colab": {
          "base_uri": "https://localhost:8080/"
        },
        "id": "4qVZU565-HGs",
        "outputId": "70ffb1e1-1dd0-434b-e80c-29ba493c2c21"
      },
      "outputs": [
        {
          "output_type": "stream",
          "name": "stdout",
          "text": [
            "Calculated weather value w: 284.5\n"
          ]
        }
      ],
      "source": [
        "def calculate_weather(t, H, W):\n",
        "    w = 0.5 * t**2 - 0.2 * H + 0.1 * W - 15\n",
        "    return w\n",
        "\n",
        "# Hardcoded values\n",
        "t = 25  # Temperature (in °C)\n",
        "H = 70  # Humidity (in %)\n",
        "W = 10  # Wind speed (in km/h)\n",
        "\n",
        "w = calculate_weather(t, H, W)\n",
        "print(f\"Calculated weather value w: {w}\")"
      ]
    },
    {
      "cell_type": "code",
      "source": [
        "def calculate_weather(t, H, W):\n",
        "    w = 0.5 * t**2 - 0.2 * H + 0.1 * W - 15\n",
        "    return w\n",
        "\n",
        "# Accepting input via keyboard\n",
        "t = float(input(\"Enter temperature (t in °C): \"))\n",
        "H = float(input(\"Enter humidity (H in %): \"))\n",
        "W = float(input(\"Enter wind speed (W in km/h): \"))\n",
        "\n",
        "w = calculate_weather(t, H, W)\n",
        "print(f\"Calculated weather value w: {w}\")"
      ],
      "metadata": {
        "colab": {
          "base_uri": "https://localhost:8080/"
        },
        "id": "qMzXNXcz_bS2",
        "outputId": "8cde9aa9-6f3c-4e83-b963-89bf77f1f7a8"
      },
      "execution_count": 2,
      "outputs": [
        {
          "output_type": "stream",
          "name": "stdout",
          "text": [
            "Enter temperature (t in °C): 30\n",
            "Enter humidity (H in %): 50\n",
            "Enter wind speed (W in km/h): 10\n",
            "Calculated weather value w: 426.0\n"
          ]
        }
      ]
    },
    {
      "cell_type": "code",
      "source": [
        "def calculate_weather(t, H, W):\n",
        "    w = 0.5 * t**2 - 0.2 * H + 0.1 * W - 15\n",
        "    return w\n",
        "\n",
        "try:\n",
        "    with open('inputs.txt', 'r') as file:\n",
        "        for line in file:\n",
        "            t, H, W = map(float, line.split())\n",
        "            w = calculate_weather(t, H, W)\n",
        "            print(f\"Calculated weather value w for t={t}, H={H}, W={W}: {w}\")\n",
        "except FileNotFoundError:\n",
        "    print(\"The file 'inputs.txt' was not found.\")"
      ],
      "metadata": {
        "colab": {
          "base_uri": "https://localhost:8080/"
        },
        "id": "1Pbxshk0_pJm",
        "outputId": "ccac13dd-0ed6-4a5c-86dc-8ed364909fb7"
      },
      "execution_count": 3,
      "outputs": [
        {
          "output_type": "stream",
          "name": "stdout",
          "text": [
            "The file 'inputs.txt' was not found.\n"
          ]
        }
      ]
    },
    {
      "cell_type": "code",
      "source": [
        "def calculate_weather(t, H, W):\n",
        "    w = 0.5 * t**2 - 0.2 * H + 0.1 * W - 15\n",
        "    return w\n",
        "\n",
        "# Single set of inputs\n",
        "t = 25  # Temperature (in °C)\n",
        "H = 70  # Humidity (in %)\n",
        "W = 10  # Wind speed (in km/h)\n",
        "\n",
        "w = calculate_weather(t, H, W)\n",
        "print(f\"Calculated weather value w for t={t}, H={H}, W={W}: {w}\")\n"
      ],
      "metadata": {
        "colab": {
          "base_uri": "https://localhost:8080/"
        },
        "id": "9WTh5soV_vAa",
        "outputId": "32df32b7-c50f-4dff-8d61-34f44f92b8a9"
      },
      "execution_count": 5,
      "outputs": [
        {
          "output_type": "stream",
          "name": "stdout",
          "text": [
            "Calculated weather value w for t=25, H=70, W=10: 284.5\n"
          ]
        }
      ]
    },
    {
      "cell_type": "code",
      "source": [
        "def calculate_weather(t, H, W):\n",
        "    w = 0.5 * t**2 - 0.2 * H + 0.1 * W - 15\n",
        "    return w\n",
        "\n",
        "# Processing multiple sets of inputs interactively\n",
        "while True:\n",
        "    user_input = input(\"Do you want to input another set of values (y/n)? \").strip().lower()\n",
        "    if user_input == 'n':\n",
        "        break\n",
        "    elif user_input == 'y':\n",
        "        t = float(input(\"Enter temperature (t in °C): \"))\n",
        "        H = float(input(\"Enter humidity (H in %): \"))\n",
        "        W = float(input(\"Enter wind speed (W in km/h): \"))\n",
        "        w = calculate_weather(t, H, W)\n",
        "        print(f\"Calculated weather value w for t={t}, H={H}, W={W}: {w}\")\n",
        "    else:\n",
        "        print(\"Invalid input. Please enter 'y' or 'n'.\")"
      ],
      "metadata": {
        "colab": {
          "base_uri": "https://localhost:8080/"
        },
        "id": "08LMAOmT_3vi",
        "outputId": "fe59e732-09a7-4430-fbc9-7997844b062b"
      },
      "execution_count": 2,
      "outputs": [
        {
          "name": "stdout",
          "output_type": "stream",
          "text": [
            "Do you want to input another set of values (y/n)? y\n",
            "Enter temperature (t in °C): 30\n",
            "Enter humidity (H in %): 50\n",
            "Enter wind speed (W in km/h): 10\n",
            "Calculated weather value w for t=30.0, H=50.0, W=10.0: 426.0\n",
            "Do you want to input another set of values (y/n)? n\n"
          ]
        }
      ]
    },
    {
      "cell_type": "code",
      "source": [
        "def calculate_weather(t, H, W):\n",
        "    # Calculate weather value using the given quadratic equation\n",
        "    w = 0.5 * t**2 - 0.2 * H + 0.1 * W - 15\n",
        "    return w\n",
        "\n",
        "def classify_weather(w):\n",
        "    # Classify the weather based on the value of 'w'\n",
        "    if w >= 200 and w <= 400:\n",
        "        return \"Sunny\"\n",
        "    elif w >= 100 and w < 200:\n",
        "        return \"Cloudy\"\n",
        "    elif w >= 0 and w < 100:\n",
        "        return \"Rainy\"\n",
        "    elif w < 0:\n",
        "        return \"Stormy\"\n",
        "    else:\n",
        "        return \"Unknown\"\n",
        "\n",
        "# Test scenarios for prediction\n",
        "scenarios = [\n",
        "    {\"t\": 25, \"H\": 70, \"W\": 10},  # Scenario 1\n",
        "    {\"t\": 35, \"H\": 90, \"W\": 15},  # Scenario 2\n",
        "    {\"t\": 15, \"H\": 80, \"W\": 5},   # Scenario 3\n",
        "    {\"t\": 40, \"H\": 50, \"W\": 20},  # Scenario 4\n",
        "    {\"t\": 5, \"H\": 95, \"W\": 0}     # Scenario 5\n",
        "]\n",
        "\n",
        "# Process each scenario and predict the weather\n",
        "for scenario in scenarios:\n",
        "    t = scenario[\"t\"]\n",
        "    H = scenario[\"H\"]\n",
        "    W = scenario[\"W\"]\n",
        "\n",
        "    w = calculate_weather(t, H, W)\n",
        "    weather_condition = classify_weather(w)\n",
        "\n",
        "    print(f\"Prediction for t={t}°C, H={H}%, W={W} km/h: w = {w}, Weather: {weather_condition}\")"
      ],
      "metadata": {
        "colab": {
          "base_uri": "https://localhost:8080/"
        },
        "id": "tG7o6A8tAV0X",
        "outputId": "8e948bc5-60d1-46e9-dcb2-981ceac7ef6f"
      },
      "execution_count": 3,
      "outputs": [
        {
          "output_type": "stream",
          "name": "stdout",
          "text": [
            "Prediction for t=25°C, H=70%, W=10 km/h: w = 284.5, Weather: Sunny\n",
            "Prediction for t=35°C, H=90%, W=15 km/h: w = 581.0, Weather: Unknown\n",
            "Prediction for t=15°C, H=80%, W=5 km/h: w = 82.0, Weather: Rainy\n",
            "Prediction for t=40°C, H=50%, W=20 km/h: w = 777.0, Weather: Unknown\n",
            "Prediction for t=5°C, H=95%, W=0 km/h: w = -21.5, Weather: Stormy\n"
          ]
        }
      ]
    }
  ]
}